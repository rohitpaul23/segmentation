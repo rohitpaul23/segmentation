{
  "cells": [
    {
      "cell_type": "markdown",
      "metadata": {
        "id": "0Iv-vIpkrDH9"
      },
      "source": [
        "##Image Segmentation of Handwritten Digits\n",
        "\n",
        "We will build a model that predicts the segmentation masks (pixel-wise label map) of handwritten digits. This model will be trained on the M2NIST dataset, a multi digit MNIST.\n",
        "\n",
        "We will build a Convolutional Neural Network (CNN) from scratch for the downsampling path and use a Fully Convolutional Network, FCN-8, to upsample and produce the pixel-wise label map. \n",
        "\n",
        "The model will be evaluated using the intersection over union (IOU) and Dice Score."
      ]
    },
    {
      "cell_type": "markdown",
      "metadata": {
        "id": "tbRSjghor4wf"
      },
      "source": [
        "###Imports"
      ]
    },
    {
      "cell_type": "code",
      "execution_count": 1,
      "metadata": {
        "colab": {
          "base_uri": "https://localhost:8080/"
        },
        "id": "sqckES6Jp-Hl",
        "outputId": "d467d524-b354-4a18-9926-e05c7e1fb933"
      },
      "outputs": [
        {
          "output_type": "stream",
          "name": "stdout",
          "text": [
            "Colab only includes TensorFlow 2.x; %tensorflow_version has no effect.\n",
            "Tensorflow version 2.11.0\n"
          ]
        }
      ],
      "source": [
        "try:\n",
        "  # %tensorflow_version only exists in Colab.\n",
        "  %tensorflow_version 2.x\n",
        "except Exception:\n",
        "  pass\n",
        "\n",
        "import os\n",
        "import zipfile\n",
        "\n",
        "import PIL.Image, PIL.ImageFont, PIL.ImageDraw\n",
        "import numpy as np\n",
        "from matplotlib import pyplot as plt\n",
        "\n",
        "import tensorflow as tf\n",
        "import tensorflow_datasets as tfds\n",
        "from sklearn.model_selection import train_test_split\n",
        "\n",
        "print(\"Tensorflow version \" + tf.__version__)"
      ]
    },
    {
      "cell_type": "markdown",
      "metadata": {
        "id": "eJbFWowssYlD"
      },
      "source": [
        "###Download the Dataset\n"
      ]
    },
    {
      "cell_type": "markdown",
      "metadata": {
        "id": "ii1APAWsJoB-"
      },
      "source": [
        "M2NIST is a multi digit MNIST. Each image has up to 3 digits from MNIST digits and the corresponding labels file has the segmentation masks."
      ]
    },
    {
      "cell_type": "code",
      "execution_count": 2,
      "metadata": {
        "colab": {
          "base_uri": "https://localhost:8080/"
        },
        "id": "6jdvEYoCozwV",
        "outputId": "8444a4f0-74d1-4bf3-ece5-994ff7ba9cf2"
      },
      "outputs": [
        {
          "output_type": "stream",
          "name": "stdout",
          "text": [
            "kaggle.json  \u001b[0m\u001b[01;34msample_data\u001b[0m/\n"
          ]
        }
      ],
      "source": [
        "%ls"
      ]
    },
    {
      "cell_type": "code",
      "execution_count": 3,
      "metadata": {
        "id": "tv74yUcAt8WT"
      },
      "outputs": [],
      "source": [
        "os.environ['KAGGLE_CONFIG_DIR'] = '.'"
      ]
    },
    {
      "cell_type": "code",
      "execution_count": 4,
      "metadata": {
        "id": "WbxBfWRkuSUB"
      },
      "outputs": [],
      "source": [
        "!chmod 600 ./kaggle.json"
      ]
    },
    {
      "cell_type": "code",
      "execution_count": 5,
      "metadata": {
        "colab": {
          "base_uri": "https://localhost:8080/"
        },
        "id": "vB52-jQWpGb5",
        "outputId": "e7d642eb-63f8-4775-9fac-b6bea33a57cf"
      },
      "outputs": [
        {
          "output_type": "stream",
          "name": "stdout",
          "text": [
            "Downloading multimnistm2nist.zip to /content/m2nist.zip\n",
            " 78% 13.0M/16.6M [00:00<00:00, 24.2MB/s]\n",
            "100% 16.6M/16.6M [00:00<00:00, 18.6MB/s]\n"
          ]
        }
      ],
      "source": [
        "!kaggle datasets download farhanhubble/multimnistm2nist -p /content/m2nist.zip "
      ]
    },
    {
      "cell_type": "code",
      "execution_count": 6,
      "metadata": {
        "colab": {
          "base_uri": "https://localhost:8080/"
        },
        "id": "d0cwxHoHunba",
        "outputId": "029aaa46-b8e2-4447-dc86-7bfd4e27f24c"
      },
      "outputs": [
        {
          "output_type": "stream",
          "name": "stdout",
          "text": [
            "kaggle.json  \u001b[0m\u001b[01;34mm2nist.zip\u001b[0m/  \u001b[01;34msample_data\u001b[0m/\n"
          ]
        }
      ],
      "source": [
        "%ls"
      ]
    },
    {
      "cell_type": "code",
      "execution_count": 7,
      "metadata": {
        "id": "k0_lYLjir6pM"
      },
      "outputs": [],
      "source": [
        "# find and extract to a local folder ('/tmp/training')\n",
        "local_zip = '/content/m2nist.zip/multimnistm2nist.zip'\n",
        "zip_ref = zipfile.ZipFile(local_zip, 'r')\n",
        "zip_ref.extractall('/content/training')\n",
        "zip_ref.close()"
      ]
    },
    {
      "cell_type": "markdown",
      "metadata": {
        "id": "XM4fGAwbuyDa"
      },
      "source": [
        "###Load and Prepare the Dataset\n",
        "\n",
        "This dataset can be easily preprocessed since it is available as Numpy Array Files (.npy)\n",
        "\n",
        "* combined.npy has the image files containing the multiple MNIST digits. Each image is of size 64 x 84 (height x width, in pixels).\n",
        "\n",
        "* segmented.npy has the corresponding segmentation masks. Each segmentation mask is also of size 64 x 84.\n",
        "\n",
        "This dataset has 5000 samples and we can make appropriate training, validation, and test splits as required for the problem.\n",
        "\n",
        "With that, let's define a few utility functions for loading and preprocessing the dataset."
      ]
    },
    {
      "cell_type": "code",
      "execution_count": 8,
      "metadata": {
        "id": "MxG7IGa6xQZO"
      },
      "outputs": [],
      "source": [
        "import numpy as np"
      ]
    },
    {
      "cell_type": "code",
      "execution_count": 9,
      "metadata": {
        "colab": {
          "base_uri": "https://localhost:8080/"
        },
        "id": "tRztHCcsxVkP",
        "outputId": "d1715b4b-a4f0-442b-b8e9-6e2e7432e269"
      },
      "outputs": [
        {
          "output_type": "stream",
          "name": "stdout",
          "text": [
            "kaggle.json  \u001b[0m\u001b[01;34mm2nist.zip\u001b[0m/  \u001b[01;34msample_data\u001b[0m/  \u001b[01;34mtraining\u001b[0m/\n"
          ]
        }
      ],
      "source": [
        "%ls"
      ]
    },
    {
      "cell_type": "code",
      "execution_count": 10,
      "metadata": {
        "id": "ZdmoU31Ov_Ik"
      },
      "outputs": [],
      "source": [
        "BATCH_SIZE = 32\n",
        "\n",
        "def read_image_and_annotation(image, annotation):\n",
        "  '''\n",
        "  Casts the image and annotation to their expected data type and\n",
        "  normalizes the input image so that each pixel is in the range [-1, 1]\n",
        "\n",
        "  Args:\n",
        "    image (numpy array) -- input image\n",
        "    annotation (numpy array) -- ground truth label map\n",
        "\n",
        "  Returns:\n",
        "    preprocessed image-annotation pair\n",
        "  '''\n",
        "\n",
        "  image = tf.cast(image, dtype=tf.float32)\n",
        "  image = tf.reshape(image, (image.shape[0], image.shape[1], 1,))\n",
        "  annotation = tf.cast(annotation, dtype=tf.int32)\n",
        "  image = image / 127.5\n",
        "  image -= 1\n",
        "\n",
        "  return image, annotation\n",
        "\n",
        "\n",
        "def get_training_dataset(images, annos):\n",
        "  '''\n",
        "  Prepares shuffled batches of the training set.\n",
        "  \n",
        "  Args:\n",
        "    images (list of strings) -- paths to each image file in the train set\n",
        "    annos (list of strings) -- paths to each label map in the train set\n",
        "\n",
        "  Returns:\n",
        "    tf Dataset containing the preprocessed train set\n",
        "  '''\n",
        "  training_dataset = tf.data.Dataset.from_tensor_slices((images, annos))\n",
        "  training_dataset = training_dataset.map(read_image_and_annotation)\n",
        "\n",
        "  training_dataset = training_dataset.shuffle(512, reshuffle_each_iteration=True)\n",
        "  training_dataset = training_dataset.batch(BATCH_SIZE)\n",
        "  training_dataset = training_dataset.repeat()\n",
        "  training_dataset = training_dataset.prefetch(-1)\n",
        "\n",
        "  return training_dataset\n",
        "\n",
        "\n",
        "def get_validation_dataset(images, annos):\n",
        "  '''\n",
        "  Prepares batches of the validation set.\n",
        "  \n",
        "  Args:\n",
        "    images (list of strings) -- paths to each image file in the val set\n",
        "    annos (list of strings) -- paths to each label map in the val set\n",
        "\n",
        "  Returns:\n",
        "    tf Dataset containing the preprocessed validation set\n",
        "  '''\n",
        "  validation_dataset = tf.data.Dataset.from_tensor_slices((images, annos))\n",
        "  validation_dataset = validation_dataset.map(read_image_and_annotation)\n",
        "  validation_dataset = validation_dataset.batch(BATCH_SIZE)\n",
        "  validation_dataset = validation_dataset.repeat()\n",
        "\n",
        "  return validation_dataset\n",
        "\n",
        "\n",
        "def get_test_dataset(images, annos):\n",
        "  '''\n",
        "  Prepares batches of the test set.\n",
        "  \n",
        "  Args:\n",
        "    images (list of strings) -- paths to each image file in the test set\n",
        "    annos (list of strings) -- paths to each label map in the test set\n",
        "\n",
        "  Returns:\n",
        "    tf Dataset containing the preprocessed validation set\n",
        "  '''\n",
        "  test_dataset = tf.data.Dataset.from_tensor_slices((images, annos))\n",
        "  test_dataset = test_dataset.map(read_image_and_annotation)\n",
        "  test_dataset = test_dataset.batch(BATCH_SIZE, drop_remainder=True)\n",
        "\n",
        "  return test_dataset\n",
        "\n",
        "\n",
        "def load_images_and_segments():\n",
        "  '''\n",
        "  Loads the images and segments as numpy arrays from npy files \n",
        "  and makes splits for training, validation and test datasets.\n",
        "\n",
        "  Returns:\n",
        "    3 tuples containing the train, val, and test splits\n",
        "  '''\n",
        "\n",
        "  #Loads images and segmentation masks.\n",
        "  images = np.load('/content/training/combined.npy')\n",
        "  segments = np.load('/content/training/segmented.npy')\n",
        "\n",
        "  #Makes training, validation, test splits from loaded images and segmentation masks.\n",
        "  train_images, val_images, train_annos, val_annos = train_test_split(images, segments, test_size=0.2, shuffle=True)\n",
        "  val_images, test_images, val_annos, test_annos = train_test_split(val_images, val_annos, test_size=0.2, shuffle=True)\n",
        "\n",
        "  return (train_images, train_annos), (val_images, val_annos), (test_images, test_annos)"
      ]
    },
    {
      "cell_type": "code",
      "execution_count": 11,
      "metadata": {
        "id": "EKLC8OTHwHHt"
      },
      "outputs": [],
      "source": [
        "# Load Dataset\n",
        "train_slices, val_slices, test_slices = load_images_and_segments()\n",
        "\n",
        "# Create training, validation, test datasets.\n",
        "training_dataset = get_training_dataset(train_slices[0], train_slices[1])\n",
        "validation_dataset = get_validation_dataset(val_slices[0], val_slices[1])\n",
        "test_dataset = get_test_dataset(test_slices[0], test_slices[1])"
      ]
    },
    {
      "cell_type": "markdown",
      "metadata": {
        "id": "njHk5c1nwOiP"
      },
      "source": [
        "###Visualizing the Dataset\n",
        "\n"
      ]
    },
    {
      "cell_type": "code",
      "execution_count": 12,
      "metadata": {
        "id": "9y1_4D2by5nh"
      },
      "outputs": [],
      "source": [
        "# Visualization Utilities\n",
        "\n",
        "# there are 11 classes in the dataset: one class for each digit (0 to 9) plus the background class\n",
        "n_classes = 11\n",
        "\n",
        "# assign a random color for each class\n",
        "colors = [tuple(np.random.randint(256, size=3) / 255.0) for i in range(n_classes)]\n",
        "\n",
        "def fuse_with_pil(images):\n",
        "  '''\n",
        "  Creates a blank image and pastes input images\n",
        "\n",
        "  Args:\n",
        "    images (list of numpy arrays) - numpy array representations of the images to paste\n",
        "  \n",
        "  Returns:\n",
        "    PIL Image object containing the images\n",
        "  '''\n",
        "\n",
        "  widths = (image.shape[1] for image in images)\n",
        "  heights = (image.shape[0] for image in images)\n",
        "  total_width = sum(widths)\n",
        "  max_height = max(heights)\n",
        "\n",
        "  new_im = PIL.Image.new('RGB', (total_width, max_height))\n",
        "\n",
        "  x_offset = 0\n",
        "  for im in images:\n",
        "    pil_image = PIL.Image.fromarray(np.uint8(im))\n",
        "    new_im.paste(pil_image, (x_offset,0))\n",
        "    x_offset += im.shape[1]\n",
        "  \n",
        "  return new_im\n",
        "\n",
        "\n",
        "def give_color_to_annotation(annotation):\n",
        "  '''\n",
        "  Converts a 2-D annotation to a numpy array with shape (height, width, 3) where\n",
        "  the third axis represents the color channel. The label values are multiplied by\n",
        "  255 and placed in this axis to give color to the annotation\n",
        "\n",
        "  Args:\n",
        "    annotation (numpy array) - label map array\n",
        "  \n",
        "  Returns:\n",
        "    the annotation array with an additional color channel/axis\n",
        "  '''\n",
        "  seg_img = np.zeros( (annotation.shape[0],annotation.shape[1], 3) ).astype('float')\n",
        "  \n",
        "  for c in range(n_classes):\n",
        "    segc = (annotation == c)\n",
        "    seg_img[:,:,0] += segc*( colors[c][0] * 255.0)\n",
        "    seg_img[:,:,1] += segc*( colors[c][1] * 255.0)\n",
        "    seg_img[:,:,2] += segc*( colors[c][2] * 255.0)\n",
        "  \n",
        "  return seg_img\n",
        "\n",
        "\n",
        "def show_annotation_and_prediction(image, annotation, prediction, iou_list, dice_score_list):\n",
        "  '''\n",
        "  Displays the images with the ground truth and predicted label maps. Also overlays the metrics.\n",
        "\n",
        "  Args:\n",
        "    image (numpy array) -- the input image\n",
        "    annotation (numpy array) -- the ground truth label map\n",
        "    prediction (numpy array) -- the predicted label map\n",
        "    iou_list (list of floats) -- the IOU values for each class\n",
        "    dice_score_list (list of floats) -- the Dice Score for each class\n",
        "  '''\n",
        "\n",
        "  new_ann = np.argmax(annotation, axis=2)\n",
        "  true_img = give_color_to_annotation(new_ann)\n",
        "  pred_img = give_color_to_annotation(prediction)\n",
        "\n",
        "  image = image + 1\n",
        "  image = image * 127.5\n",
        "  image = np.reshape(image, (image.shape[0], image.shape[1],))\n",
        "  image = np.uint8(image)\n",
        "  images = [image, np.uint8(pred_img), np.uint8(true_img)]\n",
        "\n",
        "  metrics_by_id = [(idx, iou, dice_score) for idx, (iou, dice_score) in enumerate(zip(iou_list, dice_score_list)) if iou > 0.0 and idx < 10]\n",
        "  metrics_by_id.sort(key=lambda tup: tup[1], reverse=True)  # sorts in place\n",
        "\n",
        "  display_string_list = [\"{}: IOU: {} Dice Score: {}\".format(idx, iou, dice_score) for idx, iou, dice_score in metrics_by_id]\n",
        "  display_string = \"\\n\".join(display_string_list)\n",
        "\n",
        "  plt.figure(figsize=(15, 4))\n",
        "\n",
        "  for idx, im in enumerate(images):\n",
        "    plt.subplot(1, 3, idx+1)\n",
        "    if idx == 1:\n",
        "      plt.xlabel(display_string)\n",
        "    plt.xticks([])\n",
        "    plt.yticks([])\n",
        "    plt.imshow(im)\n",
        "\n",
        "\n",
        "def show_annotation_and_image(image, annotation):\n",
        "  '''\n",
        "  Displays the image and its annotation side by side\n",
        "\n",
        "  Args:\n",
        "    image (numpy array) -- the input image\n",
        "    annotation (numpy array) -- the label map\n",
        "  '''\n",
        "  new_ann = np.argmax(annotation, axis=2)\n",
        "  seg_img = give_color_to_annotation(new_ann)\n",
        "  \n",
        "  image = image + 1\n",
        "  image = image * 127.5\n",
        "  image = np.reshape(image, (image.shape[0], image.shape[1],))\n",
        "\n",
        "  image = np.uint8(image)\n",
        "  images = [image, seg_img]\n",
        "  \n",
        "  images = [image, seg_img]\n",
        "  fused_img = fuse_with_pil(images)\n",
        "  plt.imshow(fused_img)\n",
        "\n",
        "\n",
        "def list_show_annotation(dataset, num_images):\n",
        "  '''\n",
        "  Displays images and its annotations side by side\n",
        "\n",
        "  Args:\n",
        "    dataset (tf Dataset) -- batch of images and annotations\n",
        "    num_images (int) -- number of images to display\n",
        "  '''\n",
        "  ds = dataset.unbatch()\n",
        "\n",
        "  plt.figure(figsize=(20, 15))\n",
        "  plt.title(\"Images And Annotations\")\n",
        "  plt.subplots_adjust(bottom=0.1, top=0.9, hspace=0.05)\n",
        "\n",
        "  for idx, (image, annotation) in enumerate(ds.take(num_images)):\n",
        "    plt.subplot(5, 5, idx + 1)\n",
        "    plt.yticks([])\n",
        "    plt.xticks([])\n",
        "    show_annotation_and_image(image.numpy(), annotation.numpy())\n",
        "    "
      ]
    },
    {
      "cell_type": "code",
      "execution_count": 13,
      "metadata": {
        "colab": {
          "base_uri": "https://localhost:8080/",
          "height": 258
        },
        "id": "J0I4zFZDzCL9",
        "outputId": "201bda51-479e-4922-bf65-56d89aaad492"
      },
      "outputs": [
        {
          "output_type": "display_data",
          "data": {
            "text/plain": [
              "<Figure size 1440x1080 with 10 Axes>"
            ],
            "image/png": "[encoded data removed]"
          },
          "metadata": {}
        }
      ],
      "source": [
        "# get 10 images from the training set\n",
        "list_show_annotation(training_dataset, 10)"
      ]
    },
    {
      "cell_type": "code",
      "execution_count": 14,
      "metadata": {
        "colab": {
          "base_uri": "https://localhost:8080/",
          "height": 258
        },
        "id": "0t5kNtzt0QVI",
        "outputId": "f2d21a77-41a1-4232-a149-a260750520ea"
      },
      "outputs": [
        {
          "output_type": "display_data",
          "data": {
            "text/plain": [
              "<Figure size 1440x1080 with 10 Axes>"
            ],
            "image/png": "[encoded data removed]"
          },
          "metadata": {}
        }
      ],
      "source": [
        "# get 10 images from the validation set\n",
        "list_show_annotation(validation_dataset, 10)"
      ]
    },
    {
      "cell_type": "markdown",
      "metadata": {
        "id": "HUygZotQwzCQ"
      },
      "source": [
        "###Define the Model\n",
        "\n",
        "We will now build the model and prepare it for training. \n",
        "\n",
        "The image segmentation model will have two paths:\n",
        "\n",
        "* **Downsampling Path** - This part of the network extracts the features in the image. This is done through a series of convolution and pooling layers. The final output is a reduced image (because of the pooling layers) with the extracted features. We will build a custom CNN from scratch for this path.\n",
        "\n",
        "* **Upsampling Path** - This takes the output of the downsampling path and generates the predictions while also converting the image back to its original size. We will use an FCN-8 decoder for this path."
      ]
    },
    {
      "cell_type": "markdown",
      "metadata": {
        "id": "E5oOsuC70sMN"
      },
      "source": [
        "### Define the Basic Convolution Block"
      ]
    },
    {
      "cell_type": "code",
      "execution_count": 15,
      "metadata": {
        "id": "2uaUagX5w4I0"
      },
      "outputs": [],
      "source": [
        "# parameter describing where the channel dimension is found in our dataset\n",
        "IMAGE_ORDERING = 'channels_last'\n",
        "\n",
        "def conv_block(input, filters, strides, pooling_size, pool_strides):\n",
        "  '''\n",
        "  Args:\n",
        "    input (tensor) -- batch of images or features\n",
        "    filters (int) -- number of filters of the Conv2D layers\n",
        "    strides (int) -- strides setting of the Conv2D layers\n",
        "    pooling_size (int) -- pooling size of the MaxPooling2D layers\n",
        "    pool_strides (int) -- strides setting of the MaxPooling2D layers\n",
        "  \n",
        "  Returns:\n",
        "    (tensor) max pooled and batch-normalized features of the input \n",
        "  '''\n",
        "  \n",
        "  # use the functional syntax to stack the layers as shown in the diagram above\n",
        "  x = tf.keras.layers.Conv2D(filters, strides, padding='same', data_format=IMAGE_ORDERING)(input)\n",
        "  x = tf.keras.layers.LeakyReLU()(x)\n",
        "  x = tf.keras.layers.Conv2D(filters, strides, padding='same')(x)\n",
        "  x = tf.keras.layers.LeakyReLU()(x)\n",
        "  x = tf.keras.layers.MaxPooling2D(pool_size= pooling_size, strides= pool_strides)(x)\n",
        "  x = tf.keras.layers.BatchNormalization()(x)\n",
        "\n",
        "  return x\n"
      ]
    },
    {
      "cell_type": "code",
      "execution_count": 16,
      "metadata": {
        "colab": {
          "base_uri": "https://localhost:8080/"
        },
        "id": "9ufsWR7w01ss",
        "outputId": "c6aa918c-15b9-4747-f229-9a2eaaea7f65"
      },
      "outputs": [
        {
          "output_type": "stream",
          "name": "stdout",
          "text": [
            "Model: \"model\"\n",
            "_________________________________________________________________\n",
            " Layer (type)                Output Shape              Param #   \n",
            "=================================================================\n",
            " input_1 (InputLayer)        [(None, 64, 84, 1)]       0         \n",
            "                                                                 \n",
            " conv2d (Conv2D)             (None, 64, 84, 32)        320       \n",
            "                                                                 \n",
            " leaky_re_lu (LeakyReLU)     (None, 64, 84, 32)        0         \n",
            "                                                                 \n",
            " conv2d_1 (Conv2D)           (None, 64, 84, 32)        9248      \n",
            "                                                                 \n",
            " leaky_re_lu_1 (LeakyReLU)   (None, 64, 84, 32)        0         \n",
            "                                                                 \n",
            " max_pooling2d (MaxPooling2D  (None, 32, 42, 32)       0         \n",
            " )                                                               \n",
            "                                                                 \n",
            " batch_normalization (BatchN  (None, 32, 42, 32)       128       \n",
            " ormalization)                                                   \n",
            "                                                                 \n",
            "=================================================================\n",
            "Total params: 9,696\n",
            "Trainable params: 9,632\n",
            "Non-trainable params: 64\n",
            "_________________________________________________________________\n",
            "None\n"
          ]
        }
      ],
      "source": [
        "# TEST CODE:\n",
        "\n",
        "test_input = tf.keras.layers.Input(shape=(64,84, 1))\n",
        "test_output = conv_block(test_input, 32, 3, 2, 2)\n",
        "test_model = tf.keras.Model(inputs=test_input, outputs=test_output)\n",
        "\n",
        "print(test_model.summary())\n",
        "\n",
        "# free up test resources\n",
        "del test_input, test_output, test_model"
      ]
    },
    {
      "cell_type": "markdown",
      "metadata": {
        "id": "VPU9vSzs1Kfh"
      },
      "source": [
        "#### Define the Downsampling Path"
      ]
    },
    {
      "cell_type": "code",
      "execution_count": 17,
      "metadata": {
        "id": "eTEE_Xm_1JlO"
      },
      "outputs": [],
      "source": [
        "def FCN8(input_height=64, input_width=84):\n",
        "    '''\n",
        "    Defines the downsampling path of the image segmentation model.\n",
        "\n",
        "    Args:\n",
        "      input_height (int) -- height of the images\n",
        "      width (int) -- width of the images\n",
        "\n",
        "    Returns:\n",
        "    (tuple of tensors, tensor)\n",
        "      tuple of tensors -- features extracted at blocks 3 to 5\n",
        "      tensor -- copy of the input\n",
        "    '''\n",
        "   \n",
        "    img_input = tf.keras.layers.Input(shape=(input_height,input_width, 1))\n",
        "    \n",
        "    # pad the input image to have dimensions to the nearest power of two\n",
        "    x = tf.keras.layers.ZeroPadding2D(padding = (0, 6))(img_input)\n",
        "\n",
        "    # Block 1\n",
        "    x = conv_block(x, 32, 2, 2, 2)\n",
        "    \n",
        "    # Block 2\n",
        "    x = conv_block(x, 64, 2, 2, 2)\n",
        "\n",
        "    # Block 3\n",
        "    x = conv_block(x, 128, 2, 2, 2)\n",
        "    # save the feature map at this stage\n",
        "    f3 = x\n",
        "\n",
        "    # Block 4\n",
        "    x = conv_block(x, 256, 2, 2, 2)\n",
        "    # save the feature map at this stage\n",
        "    f4 = x\n",
        "\n",
        "    # Block 5\n",
        "    x = conv_block(x, 256, 2, 2, 2)\n",
        "    # save the feature map at this stage\n",
        "    f5 = x\n",
        "  \n",
        "    return (f3, f4, f5), img_input\n"
      ]
    },
    {
      "cell_type": "code",
      "execution_count": 18,
      "metadata": {
        "colab": {
          "base_uri": "https://localhost:8080/"
        },
        "id": "3f-i2W8j1a4n",
        "outputId": "8c001759-1fd8-474c-f79a-aae31ed0b4ae"
      },
      "outputs": [
        {
          "output_type": "stream",
          "name": "stdout",
          "text": [
            "Model: \"model_1\"\n",
            "_________________________________________________________________\n",
            " Layer (type)                Output Shape              Param #   \n",
            "=================================================================\n",
            " input_2 (InputLayer)        [(None, 64, 84, 1)]       0         \n",
            "                                                                 \n",
            " zero_padding2d (ZeroPadding  (None, 64, 96, 1)        0         \n",
            " 2D)                                                             \n",
            "                                                                 \n",
            " conv2d_2 (Conv2D)           (None, 64, 96, 32)        160       \n",
            "                                                                 \n",
            " leaky_re_lu_2 (LeakyReLU)   (None, 64, 96, 32)        0         \n",
            "                                                                 \n",
            " conv2d_3 (Conv2D)           (None, 64, 96, 32)        4128      \n",
            "                                                                 \n",
            " leaky_re_lu_3 (LeakyReLU)   (None, 64, 96, 32)        0         \n",
            "                                                                 \n",
            " max_pooling2d_1 (MaxPooling  (None, 32, 48, 32)       0         \n",
            " 2D)                                                             \n",
            "                                                                 \n",
            " batch_normalization_1 (Batc  (None, 32, 48, 32)       128       \n",
            " hNormalization)                                                 \n",
            "                                                                 \n",
            " conv2d_4 (Conv2D)           (None, 32, 48, 64)        8256      \n",
            "                                                                 \n",
            " leaky_re_lu_4 (LeakyReLU)   (None, 32, 48, 64)        0         \n",
            "                                                                 \n",
            " conv2d_5 (Conv2D)           (None, 32, 48, 64)        16448     \n",
            "                                                                 \n",
            " leaky_re_lu_5 (LeakyReLU)   (None, 32, 48, 64)        0         \n",
            "                                                                 \n",
            " max_pooling2d_2 (MaxPooling  (None, 16, 24, 64)       0         \n",
            " 2D)                                                             \n",
            "                                                                 \n",
            " batch_normalization_2 (Batc  (None, 16, 24, 64)       256       \n",
            " hNormalization)                                                 \n",
            "                                                                 \n",
            " conv2d_6 (Conv2D)           (None, 16, 24, 128)       32896     \n",
            "                                                                 \n",
            " leaky_re_lu_6 (LeakyReLU)   (None, 16, 24, 128)       0         \n",
            "                                                                 \n",
            " conv2d_7 (Conv2D)           (None, 16, 24, 128)       65664     \n",
            "                                                                 \n",
            " leaky_re_lu_7 (LeakyReLU)   (None, 16, 24, 128)       0         \n",
            "                                                                 \n",
            " max_pooling2d_3 (MaxPooling  (None, 8, 12, 128)       0         \n",
            " 2D)                                                             \n",
            "                                                                 \n",
            " batch_normalization_3 (Batc  (None, 8, 12, 128)       512       \n",
            " hNormalization)                                                 \n",
            "                                                                 \n",
            " conv2d_8 (Conv2D)           (None, 8, 12, 256)        131328    \n",
            "                                                                 \n",
            " leaky_re_lu_8 (LeakyReLU)   (None, 8, 12, 256)        0         \n",
            "                                                                 \n",
            " conv2d_9 (Conv2D)           (None, 8, 12, 256)        262400    \n",
            "                                                                 \n",
            " leaky_re_lu_9 (LeakyReLU)   (None, 8, 12, 256)        0         \n",
            "                                                                 \n",
            " max_pooling2d_4 (MaxPooling  (None, 4, 6, 256)        0         \n",
            " 2D)                                                             \n",
            "                                                                 \n",
            " batch_normalization_4 (Batc  (None, 4, 6, 256)        1024      \n",
            " hNormalization)                                                 \n",
            "                                                                 \n",
            " conv2d_10 (Conv2D)          (None, 4, 6, 256)         262400    \n",
            "                                                                 \n",
            " leaky_re_lu_10 (LeakyReLU)  (None, 4, 6, 256)         0         \n",
            "                                                                 \n",
            " conv2d_11 (Conv2D)          (None, 4, 6, 256)         262400    \n",
            "                                                                 \n",
            " leaky_re_lu_11 (LeakyReLU)  (None, 4, 6, 256)         0         \n",
            "                                                                 \n",
            " max_pooling2d_5 (MaxPooling  (None, 2, 3, 256)        0         \n",
            " 2D)                                                             \n",
            "                                                                 \n",
            " batch_normalization_5 (Batc  (None, 2, 3, 256)        1024      \n",
            " hNormalization)                                                 \n",
            "                                                                 \n",
            "=================================================================\n",
            "Total params: 1,049,024\n",
            "Trainable params: 1,047,552\n",
            "Non-trainable params: 1,472\n",
            "_________________________________________________________________\n",
            "None\n"
          ]
        }
      ],
      "source": [
        "# TEST CODE:\n",
        "\n",
        "test_convs, test_img_input = FCN8()\n",
        "test_model = tf.keras.Model(inputs=test_img_input, outputs=[test_convs, test_img_input])\n",
        "\n",
        "print(test_model.summary())\n",
        "\n",
        "del test_convs, test_img_input, test_model"
      ]
    },
    {
      "cell_type": "markdown",
      "metadata": {
        "id": "39ojN6eb1pQz"
      },
      "source": [
        "#### Define the FCN-8 decoder"
      ]
    },
    {
      "cell_type": "code",
      "execution_count": 19,
      "metadata": {
        "id": "_3m7FRub1qTu"
      },
      "outputs": [],
      "source": [
        "def fcn8_decoder(convs, n_classes):\n",
        "  # features from the encoder stage\n",
        "  f3, f4, f5 = convs\n",
        "\n",
        "  # number of filters\n",
        "  n = 512\n",
        "\n",
        "  # add convolutional layers on top of the CNN extractor.\n",
        "  o = tf.keras.layers.Conv2D(n , (7 , 7) , activation='relu' , padding='same', name=\"conv6\", data_format=IMAGE_ORDERING)(f5)\n",
        "  o = tf.keras.layers.Dropout(0.5)(o)\n",
        "\n",
        "  o = tf.keras.layers.Conv2D(n , (1 , 1) , activation='relu' , padding='same', name=\"conv7\", data_format=IMAGE_ORDERING)(o)\n",
        "  o = tf.keras.layers.Dropout(0.5)(o)\n",
        "\n",
        "  o = tf.keras.layers.Conv2D(n_classes,  (1, 1), activation='relu' , padding='same', data_format=IMAGE_ORDERING)(o)\n",
        "\n",
        "\n",
        "  # Upsample `o` above and crop any extra pixels introduced\n",
        "  o = tf.keras.layers.Conv2DTranspose(n_classes , kernel_size=(4,4) ,  strides=(2,2))(o)\n",
        "  o = tf.keras.layers.Cropping2D(cropping=(1,1))(o)\n",
        "\n",
        "  # load the pool 4 prediction and do a 1x1 convolution to reshape it to the same shape of `o` above\n",
        "  o2 = f4\n",
        "  o2 = ( tf.keras.layers.Conv2D(n_classes , ( 1 , 1 ) , activation='relu' , padding='same'))(o2)\n",
        "\n",
        "  # add the results of the upsampling and pool 4 prediction\n",
        "  o = tf.keras.layers.Add()([o, o2])\n",
        "\n",
        "  # upsample the resulting tensor of the operation you just did\n",
        "  o =  (tf.keras.layers.Conv2DTranspose( n_classes , kernel_size=(4,4) ,  strides=(2,2)))(o)\n",
        "  o = tf.keras.layers.Cropping2D(cropping=(1, 1))(o)\n",
        "\n",
        "  # load the pool 3 prediction and do a 1x1 convolution to reshape it to the same shape of `o` above\n",
        "  o2 =  f3\n",
        "  o2 = tf.keras.layers.Conv2D(n_classes , ( 1 , 1 ) , activation='relu' , padding='same', data_format=IMAGE_ORDERING)(o2)\n",
        "\n",
        "  # add the results of the upsampling and pool 3 prediction\n",
        "  o = tf.keras.layers.Add()([o, o2])\n",
        "\n",
        "  # upsample up to the size of the original image\n",
        "  o = tf.keras.layers.Conv2DTranspose(n_classes , kernel_size=(8,8) ,  strides=(8,8))(o)\n",
        "  o = tf.keras.layers.Cropping2D(((0, 0), (0, 96-84)))(o)\n",
        "\n",
        "  # append a sigmoid activation\n",
        "  o = (tf.keras.layers.Activation('softmax'))(o)\n",
        "\n",
        "  return o"
      ]
    },
    {
      "cell_type": "code",
      "execution_count": 20,
      "metadata": {
        "colab": {
          "base_uri": "https://localhost:8080/"
        },
        "id": "sd5UYDES2gfO",
        "outputId": "88b231a4-7c2e-4f89-da53-03d205f60baa"
      },
      "outputs": [
        {
          "output_type": "stream",
          "name": "stdout",
          "text": [
            "(None, 64, 84, 11)\n"
          ]
        }
      ],
      "source": [
        "# TEST CODE\n",
        "\n",
        "test_convs, test_img_input = FCN8()\n",
        "test_fcn8_decoder = fcn8_decoder(test_convs, 11)\n",
        "\n",
        "print(test_fcn8_decoder.shape)\n",
        "\n",
        "del test_convs, test_img_input, test_fcn8_decoder"
      ]
    },
    {
      "cell_type": "markdown",
      "metadata": {
        "id": "wTY1GtI92k20"
      },
      "source": [
        "#### Define the Complete Model"
      ]
    },
    {
      "cell_type": "code",
      "execution_count": 21,
      "metadata": {
        "id": "XfoH1H2T2mXk"
      },
      "outputs": [],
      "source": [
        "# start the encoder using the default input size 64 x 84\n",
        "convs, img_input = FCN8()\n",
        "\n",
        "# pass the convolutions obtained in the encoder to the decoder\n",
        "dec_op = fcn8_decoder(convs, n_classes)\n",
        "\n",
        "# define the model specifying the input (batch of images) and output (decoder output)\n",
        "model = tf.keras.Model(inputs = img_input, outputs = dec_op)"
      ]
    },
    {
      "cell_type": "code",
      "execution_count": 22,
      "metadata": {
        "colab": {
          "base_uri": "https://localhost:8080/"
        },
        "id": "Ms122cyY29Sq",
        "outputId": "eb92d40c-bcff-40c8-9f8c-5b4635a086a5"
      },
      "outputs": [
        {
          "output_type": "stream",
          "name": "stdout",
          "text": [
            "Model: \"model_2\"\n",
            "__________________________________________________________________________________________________\n",
            " Layer (type)                   Output Shape         Param #     Connected to                     \n",
            "==================================================================================================\n",
            " input_4 (InputLayer)           [(None, 64, 84, 1)]  0           []                               \n",
            "                                                                                                  \n",
            " zero_padding2d_2 (ZeroPadding2  (None, 64, 96, 1)   0           ['input_4[0][0]']                \n",
            " D)                                                                                               \n",
            "                                                                                                  \n",
            " conv2d_25 (Conv2D)             (None, 64, 96, 32)   160         ['zero_padding2d_2[0][0]']       \n",
            "                                                                                                  \n",
            " leaky_re_lu_22 (LeakyReLU)     (None, 64, 96, 32)   0           ['conv2d_25[0][0]']              \n",
            "                                                                                                  \n",
            " conv2d_26 (Conv2D)             (None, 64, 96, 32)   4128        ['leaky_re_lu_22[0][0]']         \n",
            "                                                                                                  \n",
            " leaky_re_lu_23 (LeakyReLU)     (None, 64, 96, 32)   0           ['conv2d_26[0][0]']              \n",
            "                                                                                                  \n",
            " max_pooling2d_11 (MaxPooling2D  (None, 32, 48, 32)  0           ['leaky_re_lu_23[0][0]']         \n",
            " )                                                                                                \n",
            "                                                                                                  \n",
            " batch_normalization_11 (BatchN  (None, 32, 48, 32)  128         ['max_pooling2d_11[0][0]']       \n",
            " ormalization)                                                                                    \n",
            "                                                                                                  \n",
            " conv2d_27 (Conv2D)             (None, 32, 48, 64)   8256        ['batch_normalization_11[0][0]'] \n",
            "                                                                                                  \n",
            " leaky_re_lu_24 (LeakyReLU)     (None, 32, 48, 64)   0           ['conv2d_27[0][0]']              \n",
            "                                                                                                  \n",
            " conv2d_28 (Conv2D)             (None, 32, 48, 64)   16448       ['leaky_re_lu_24[0][0]']         \n",
            "                                                                                                  \n",
            " leaky_re_lu_25 (LeakyReLU)     (None, 32, 48, 64)   0           ['conv2d_28[0][0]']              \n",
            "                                                                                                  \n",
            " max_pooling2d_12 (MaxPooling2D  (None, 16, 24, 64)  0           ['leaky_re_lu_25[0][0]']         \n",
            " )                                                                                                \n",
            "                                                                                                  \n",
            " batch_normalization_12 (BatchN  (None, 16, 24, 64)  256         ['max_pooling2d_12[0][0]']       \n",
            " ormalization)                                                                                    \n",
            "                                                                                                  \n",
            " conv2d_29 (Conv2D)             (None, 16, 24, 128)  32896       ['batch_normalization_12[0][0]'] \n",
            "                                                                                                  \n",
            " leaky_re_lu_26 (LeakyReLU)     (None, 16, 24, 128)  0           ['conv2d_29[0][0]']              \n",
            "                                                                                                  \n",
            " conv2d_30 (Conv2D)             (None, 16, 24, 128)  65664       ['leaky_re_lu_26[0][0]']         \n",
            "                                                                                                  \n",
            " leaky_re_lu_27 (LeakyReLU)     (None, 16, 24, 128)  0           ['conv2d_30[0][0]']              \n",
            "                                                                                                  \n",
            " max_pooling2d_13 (MaxPooling2D  (None, 8, 12, 128)  0           ['leaky_re_lu_27[0][0]']         \n",
            " )                                                                                                \n",
            "                                                                                                  \n",
            " batch_normalization_13 (BatchN  (None, 8, 12, 128)  512         ['max_pooling2d_13[0][0]']       \n",
            " ormalization)                                                                                    \n",
            "                                                                                                  \n",
            " conv2d_31 (Conv2D)             (None, 8, 12, 256)   131328      ['batch_normalization_13[0][0]'] \n",
            "                                                                                                  \n",
            " leaky_re_lu_28 (LeakyReLU)     (None, 8, 12, 256)   0           ['conv2d_31[0][0]']              \n",
            "                                                                                                  \n",
            " conv2d_32 (Conv2D)             (None, 8, 12, 256)   262400      ['leaky_re_lu_28[0][0]']         \n",
            "                                                                                                  \n",
            " leaky_re_lu_29 (LeakyReLU)     (None, 8, 12, 256)   0           ['conv2d_32[0][0]']              \n",
            "                                                                                                  \n",
            " max_pooling2d_14 (MaxPooling2D  (None, 4, 6, 256)   0           ['leaky_re_lu_29[0][0]']         \n",
            " )                                                                                                \n",
            "                                                                                                  \n",
            " batch_normalization_14 (BatchN  (None, 4, 6, 256)   1024        ['max_pooling2d_14[0][0]']       \n",
            " ormalization)                                                                                    \n",
            "                                                                                                  \n",
            " conv2d_33 (Conv2D)             (None, 4, 6, 256)    262400      ['batch_normalization_14[0][0]'] \n",
            "                                                                                                  \n",
            " leaky_re_lu_30 (LeakyReLU)     (None, 4, 6, 256)    0           ['conv2d_33[0][0]']              \n",
            "                                                                                                  \n",
            " conv2d_34 (Conv2D)             (None, 4, 6, 256)    262400      ['leaky_re_lu_30[0][0]']         \n",
            "                                                                                                  \n",
            " leaky_re_lu_31 (LeakyReLU)     (None, 4, 6, 256)    0           ['conv2d_34[0][0]']              \n",
            "                                                                                                  \n",
            " max_pooling2d_15 (MaxPooling2D  (None, 2, 3, 256)   0           ['leaky_re_lu_31[0][0]']         \n",
            " )                                                                                                \n",
            "                                                                                                  \n",
            " batch_normalization_15 (BatchN  (None, 2, 3, 256)   1024        ['max_pooling2d_15[0][0]']       \n",
            " ormalization)                                                                                    \n",
            "                                                                                                  \n",
            " conv6 (Conv2D)                 (None, 2, 3, 512)    6423040     ['batch_normalization_15[0][0]'] \n",
            "                                                                                                  \n",
            " dropout_2 (Dropout)            (None, 2, 3, 512)    0           ['conv6[0][0]']                  \n",
            "                                                                                                  \n",
            " conv7 (Conv2D)                 (None, 2, 3, 512)    262656      ['dropout_2[0][0]']              \n",
            "                                                                                                  \n",
            " dropout_3 (Dropout)            (None, 2, 3, 512)    0           ['conv7[0][0]']                  \n",
            "                                                                                                  \n",
            " conv2d_35 (Conv2D)             (None, 2, 3, 11)     5643        ['dropout_3[0][0]']              \n",
            "                                                                                                  \n",
            " conv2d_transpose_3 (Conv2DTran  (None, 6, 8, 11)    1947        ['conv2d_35[0][0]']              \n",
            " spose)                                                                                           \n",
            "                                                                                                  \n",
            " cropping2d_3 (Cropping2D)      (None, 4, 6, 11)     0           ['conv2d_transpose_3[0][0]']     \n",
            "                                                                                                  \n",
            " conv2d_36 (Conv2D)             (None, 4, 6, 11)     2827        ['batch_normalization_14[0][0]'] \n",
            "                                                                                                  \n",
            " add_2 (Add)                    (None, 4, 6, 11)     0           ['cropping2d_3[0][0]',           \n",
            "                                                                  'conv2d_36[0][0]']              \n",
            "                                                                                                  \n",
            " conv2d_transpose_4 (Conv2DTran  (None, 10, 14, 11)  1947        ['add_2[0][0]']                  \n",
            " spose)                                                                                           \n",
            "                                                                                                  \n",
            " cropping2d_4 (Cropping2D)      (None, 8, 12, 11)    0           ['conv2d_transpose_4[0][0]']     \n",
            "                                                                                                  \n",
            " conv2d_37 (Conv2D)             (None, 8, 12, 11)    1419        ['batch_normalization_13[0][0]'] \n",
            "                                                                                                  \n",
            " add_3 (Add)                    (None, 8, 12, 11)    0           ['cropping2d_4[0][0]',           \n",
            "                                                                  'conv2d_37[0][0]']              \n",
            "                                                                                                  \n",
            " conv2d_transpose_5 (Conv2DTran  (None, 64, 96, 11)  7755        ['add_3[0][0]']                  \n",
            " spose)                                                                                           \n",
            "                                                                                                  \n",
            " cropping2d_5 (Cropping2D)      (None, 64, 84, 11)   0           ['conv2d_transpose_5[0][0]']     \n",
            "                                                                                                  \n",
            " activation_1 (Activation)      (None, 64, 84, 11)   0           ['cropping2d_5[0][0]']           \n",
            "                                                                                                  \n",
            "==================================================================================================\n",
            "Total params: 7,756,258\n",
            "Trainable params: 7,754,786\n",
            "Non-trainable params: 1,472\n",
            "__________________________________________________________________________________________________\n"
          ]
        }
      ],
      "source": [
        "model.summary()"
      ]
    },
    {
      "cell_type": "markdown",
      "metadata": {
        "id": "wvWdTC-ax4D8"
      },
      "source": [
        "#### Compile the Model\n",
        "\n",
        "Next, the model will be configured for training. We will use categorical_crossentropy as the loss function since the label map is transformed to one hot encoded vectors for each pixel in the image (i.e. 1 in one slice and 0 for other slices).\n",
        "\n"
      ]
    },
    {
      "cell_type": "code",
      "execution_count": 23,
      "metadata": {
        "id": "gdykf2umyBAu"
      },
      "outputs": [],
      "source": [
        "sgd = tf.keras.optimizers.SGD(learning_rate=1E-2, momentum=0.9, nesterov=True)\n",
        "\n",
        "model.compile(loss='categorical_crossentropy', optimizer=sgd, \n",
        "              metrics=['accuracy'])"
      ]
    },
    {
      "cell_type": "markdown",
      "metadata": {
        "id": "UVtbxTWSyGPh"
      },
      "source": [
        "###Train the Model\n",
        "The model can now be trained."
      ]
    },
    {
      "cell_type": "code",
      "execution_count": 24,
      "metadata": {
        "colab": {
          "base_uri": "https://localhost:8080/"
        },
        "id": "gyA_3k7xyKAu",
        "outputId": "da8fc400-0ad4-4e8e-da87-672706178ff0"
      },
      "outputs": [
        {
          "output_type": "stream",
          "name": "stdout",
          "text": [
            "Epoch 1/200\n",
            "125/125 [==============================] - 19s 53ms/step - loss: 0.7681 - accuracy: 0.9080 - val_loss: 0.3582 - val_accuracy: 0.9428\n",
            "Epoch 2/200\n",
            "125/125 [==============================] - 6s 51ms/step - loss: 0.2925 - accuracy: 0.9425 - val_loss: 0.3169 - val_accuracy: 0.9428\n",
            "Epoch 3/200\n",
            "125/125 [==============================] - 6s 48ms/step - loss: 0.2549 - accuracy: 0.9425 - val_loss: 0.2789 - val_accuracy: 0.9428\n",
            "Epoch 4/200\n",
            "125/125 [==============================] - 6s 52ms/step - loss: 0.2407 - accuracy: 0.9425 - val_loss: 0.2484 - val_accuracy: 0.9428\n",
            "Epoch 5/200\n",
            "125/125 [==============================] - 6s 49ms/step - loss: 0.2337 - accuracy: 0.9425 - val_loss: 0.2327 - val_accuracy: 0.9428\n",
            "Epoch 6/200\n",
            "125/125 [==============================] - 6s 51ms/step - loss: 0.2283 - accuracy: 0.9424 - val_loss: 0.2250 - val_accuracy: 0.9428\n",
            "Epoch 7/200\n",
            "125/125 [==============================] - 6s 47ms/step - loss: 0.2232 - accuracy: 0.9424 - val_loss: 0.2197 - val_accuracy: 0.9427\n",
            "Epoch 8/200\n",
            "125/125 [==============================] - 7s 53ms/step - loss: 0.2182 - accuracy: 0.9424 - val_loss: 0.2149 - val_accuracy: 0.9427\n",
            "Epoch 9/200\n",
            "125/125 [==============================] - 6s 47ms/step - loss: 0.2137 - accuracy: 0.9424 - val_loss: 0.2106 - val_accuracy: 0.9427\n",
            "Epoch 10/200\n",
            "125/125 [==============================] - 6s 50ms/step - loss: 0.2096 - accuracy: 0.9425 - val_loss: 0.2068 - val_accuracy: 0.9427\n",
            "Epoch 11/200\n",
            "125/125 [==============================] - 6s 50ms/step - loss: 0.2060 - accuracy: 0.9425 - val_loss: 0.2035 - val_accuracy: 0.9427\n",
            "Epoch 12/200\n",
            "125/125 [==============================] - 6s 51ms/step - loss: 0.2029 - accuracy: 0.9425 - val_loss: 0.2007 - val_accuracy: 0.9426\n",
            "Epoch 13/200\n",
            "125/125 [==============================] - 6s 50ms/step - loss: 0.2002 - accuracy: 0.9425 - val_loss: 0.1983 - val_accuracy: 0.9427\n",
            "Epoch 14/200\n",
            "125/125 [==============================] - 6s 51ms/step - loss: 0.1980 - accuracy: 0.9425 - val_loss: 0.1963 - val_accuracy: 0.9427\n",
            "Epoch 15/200\n",
            "125/125 [==============================] - 6s 50ms/step - loss: 0.1960 - accuracy: 0.9426 - val_loss: 0.1945 - val_accuracy: 0.9428\n",
            "Epoch 16/200\n",
            "125/125 [==============================] - 6s 50ms/step - loss: 0.1944 - accuracy: 0.9426 - val_loss: 0.1931 - val_accuracy: 0.9428\n",
            "Epoch 17/200\n",
            "125/125 [==============================] - 6s 48ms/step - loss: 0.1929 - accuracy: 0.9427 - val_loss: 0.1917 - val_accuracy: 0.9429\n",
            "Epoch 18/200\n",
            "125/125 [==============================] - 6s 52ms/step - loss: 0.1915 - accuracy: 0.9427 - val_loss: 0.1905 - val_accuracy: 0.9429\n",
            "Epoch 19/200\n",
            "125/125 [==============================] - 6s 51ms/step - loss: 0.1904 - accuracy: 0.9428 - val_loss: 0.1893 - val_accuracy: 0.9430\n",
            "Epoch 20/200\n",
            "125/125 [==============================] - 7s 54ms/step - loss: 0.1893 - accuracy: 0.9429 - val_loss: 0.1883 - val_accuracy: 0.9430\n",
            "Epoch 21/200\n",
            "125/125 [==============================] - 6s 48ms/step - loss: 0.1883 - accuracy: 0.9430 - val_loss: 0.1875 - val_accuracy: 0.9431\n",
            "Epoch 22/200\n",
            "125/125 [==============================] - 6s 51ms/step - loss: 0.1874 - accuracy: 0.9430 - val_loss: 0.1865 - val_accuracy: 0.9432\n",
            "Epoch 23/200\n",
            "125/125 [==============================] - 6s 47ms/step - loss: 0.1865 - accuracy: 0.9431 - val_loss: 0.1857 - val_accuracy: 0.9433\n",
            "Epoch 24/200\n",
            "125/125 [==============================] - 7s 53ms/step - loss: 0.1856 - accuracy: 0.9432 - val_loss: 0.1849 - val_accuracy: 0.9434\n",
            "Epoch 25/200\n",
            "125/125 [==============================] - 6s 48ms/step - loss: 0.1848 - accuracy: 0.9433 - val_loss: 0.1841 - val_accuracy: 0.9435\n",
            "Epoch 26/200\n",
            "125/125 [==============================] - 7s 53ms/step - loss: 0.1840 - accuracy: 0.9434 - val_loss: 0.1834 - val_accuracy: 0.9435\n",
            "Epoch 27/200\n",
            "125/125 [==============================] - 6s 47ms/step - loss: 0.1832 - accuracy: 0.9435 - val_loss: 0.1826 - val_accuracy: 0.9436\n",
            "Epoch 28/200\n",
            "125/125 [==============================] - 6s 50ms/step - loss: 0.1824 - accuracy: 0.9436 - val_loss: 0.1818 - val_accuracy: 0.9437\n",
            "Epoch 29/200\n",
            "125/125 [==============================] - 6s 50ms/step - loss: 0.1816 - accuracy: 0.9437 - val_loss: 0.1811 - val_accuracy: 0.9438\n",
            "Epoch 30/200\n",
            "125/125 [==============================] - 6s 51ms/step - loss: 0.1807 - accuracy: 0.9439 - val_loss: 0.1802 - val_accuracy: 0.9440\n",
            "Epoch 31/200\n",
            "125/125 [==============================] - 6s 48ms/step - loss: 0.1798 - accuracy: 0.9440 - val_loss: 0.1793 - val_accuracy: 0.9441\n",
            "Epoch 32/200\n",
            "125/125 [==============================] - 7s 53ms/step - loss: 0.1788 - accuracy: 0.9442 - val_loss: 0.1787 - val_accuracy: 0.9443\n",
            "Epoch 33/200\n",
            "125/125 [==============================] - 6s 51ms/step - loss: 0.1778 - accuracy: 0.9443 - val_loss: 0.1772 - val_accuracy: 0.9444\n",
            "Epoch 34/200\n",
            "125/125 [==============================] - 6s 50ms/step - loss: 0.1765 - accuracy: 0.9445 - val_loss: 0.1760 - val_accuracy: 0.9446\n",
            "Epoch 35/200\n",
            "125/125 [==============================] - 6s 51ms/step - loss: 0.1752 - accuracy: 0.9448 - val_loss: 0.1746 - val_accuracy: 0.9448\n",
            "Epoch 36/200\n",
            "125/125 [==============================] - 7s 53ms/step - loss: 0.1737 - accuracy: 0.9450 - val_loss: 0.1731 - val_accuracy: 0.9451\n",
            "Epoch 37/200\n",
            "125/125 [==============================] - 6s 51ms/step - loss: 0.1720 - accuracy: 0.9452 - val_loss: 0.1713 - val_accuracy: 0.9453\n",
            "Epoch 38/200\n",
            "125/125 [==============================] - 6s 49ms/step - loss: 0.1702 - accuracy: 0.9455 - val_loss: 0.1695 - val_accuracy: 0.9455\n",
            "Epoch 39/200\n",
            "125/125 [==============================] - 6s 52ms/step - loss: 0.1683 - accuracy: 0.9457 - val_loss: 0.1676 - val_accuracy: 0.9458\n",
            "Epoch 40/200\n",
            "125/125 [==============================] - 6s 48ms/step - loss: 0.1662 - accuracy: 0.9460 - val_loss: 0.1654 - val_accuracy: 0.9460\n",
            "Epoch 41/200\n",
            "125/125 [==============================] - 6s 50ms/step - loss: 0.1639 - accuracy: 0.9463 - val_loss: 0.1632 - val_accuracy: 0.9463\n",
            "Epoch 42/200\n",
            "125/125 [==============================] - 6s 48ms/step - loss: 0.1618 - accuracy: 0.9466 - val_loss: 0.1614 - val_accuracy: 0.9466\n",
            "Epoch 43/200\n",
            "125/125 [==============================] - 6s 51ms/step - loss: 0.1596 - accuracy: 0.9468 - val_loss: 0.1589 - val_accuracy: 0.9468\n",
            "Epoch 44/200\n",
            "125/125 [==============================] - 6s 48ms/step - loss: 0.1575 - accuracy: 0.9472 - val_loss: 0.1569 - val_accuracy: 0.9470\n",
            "Epoch 45/200\n",
            "125/125 [==============================] - 7s 52ms/step - loss: 0.1554 - accuracy: 0.9475 - val_loss: 0.1551 - val_accuracy: 0.9477\n",
            "Epoch 46/200\n",
            "125/125 [==============================] - 6s 51ms/step - loss: 0.1534 - accuracy: 0.9478 - val_loss: 0.1529 - val_accuracy: 0.9478\n",
            "Epoch 47/200\n",
            "125/125 [==============================] - 7s 53ms/step - loss: 0.1516 - accuracy: 0.9482 - val_loss: 0.1524 - val_accuracy: 0.9478\n",
            "Epoch 48/200\n",
            "125/125 [==============================] - 6s 48ms/step - loss: 0.1499 - accuracy: 0.9485 - val_loss: 0.1504 - val_accuracy: 0.9481\n",
            "Epoch 49/200\n",
            "125/125 [==============================] - 6s 50ms/step - loss: 0.1479 - accuracy: 0.9490 - val_loss: 0.1476 - val_accuracy: 0.9491\n",
            "Epoch 50/200\n",
            "125/125 [==============================] - 6s 48ms/step - loss: 0.1463 - accuracy: 0.9493 - val_loss: 0.1469 - val_accuracy: 0.9488\n",
            "Epoch 51/200\n",
            "125/125 [==============================] - 7s 54ms/step - loss: 0.1446 - accuracy: 0.9497 - val_loss: 0.1448 - val_accuracy: 0.9495\n",
            "Epoch 52/200\n",
            "125/125 [==============================] - 6s 48ms/step - loss: 0.1429 - accuracy: 0.9501 - val_loss: 0.1428 - val_accuracy: 0.9500\n",
            "Epoch 53/200\n",
            "125/125 [==============================] - 7s 54ms/step - loss: 0.1413 - accuracy: 0.9505 - val_loss: 0.1417 - val_accuracy: 0.9501\n",
            "Epoch 54/200\n",
            "125/125 [==============================] - 6s 50ms/step - loss: 0.1398 - accuracy: 0.9509 - val_loss: 0.1398 - val_accuracy: 0.9510\n",
            "Epoch 55/200\n",
            "125/125 [==============================] - 6s 51ms/step - loss: 0.1380 - accuracy: 0.9514 - val_loss: 0.1386 - val_accuracy: 0.9515\n",
            "Epoch 56/200\n",
            "125/125 [==============================] - 6s 48ms/step - loss: 0.1366 - accuracy: 0.9518 - val_loss: 0.1381 - val_accuracy: 0.9511\n",
            "Epoch 57/200\n",
            "125/125 [==============================] - 7s 54ms/step - loss: 0.1352 - accuracy: 0.9522 - val_loss: 0.1360 - val_accuracy: 0.9524\n",
            "Epoch 58/200\n",
            "125/125 [==============================] - 6s 48ms/step - loss: 0.1338 - accuracy: 0.9526 - val_loss: 0.1354 - val_accuracy: 0.9524\n",
            "Epoch 59/200\n",
            "125/125 [==============================] - 6s 52ms/step - loss: 0.1321 - accuracy: 0.9532 - val_loss: 0.1339 - val_accuracy: 0.9526\n",
            "Epoch 60/200\n",
            "125/125 [==============================] - 6s 51ms/step - loss: 0.1311 - accuracy: 0.9534 - val_loss: 0.1321 - val_accuracy: 0.9531\n",
            "Epoch 61/200\n",
            "125/125 [==============================] - 6s 51ms/step - loss: 0.1295 - accuracy: 0.9539 - val_loss: 0.1341 - val_accuracy: 0.9526\n",
            "Epoch 62/200\n",
            "125/125 [==============================] - 6s 50ms/step - loss: 0.1282 - accuracy: 0.9542 - val_loss: 0.1328 - val_accuracy: 0.9525\n",
            "Epoch 63/200\n",
            "125/125 [==============================] - 6s 51ms/step - loss: 0.1272 - accuracy: 0.9545 - val_loss: 0.1302 - val_accuracy: 0.9536\n",
            "Epoch 64/200\n",
            "125/125 [==============================] - 6s 47ms/step - loss: 0.1256 - accuracy: 0.9550 - val_loss: 0.1275 - val_accuracy: 0.9545\n",
            "Epoch 65/200\n",
            "125/125 [==============================] - 6s 51ms/step - loss: 0.1246 - accuracy: 0.9554 - val_loss: 0.1286 - val_accuracy: 0.9539\n",
            "Epoch 66/200\n",
            "125/125 [==============================] - 6s 47ms/step - loss: 0.1234 - accuracy: 0.9558 - val_loss: 0.1264 - val_accuracy: 0.9550\n",
            "Epoch 67/200\n",
            "125/125 [==============================] - 6s 51ms/step - loss: 0.1222 - accuracy: 0.9562 - val_loss: 0.1275 - val_accuracy: 0.9550\n",
            "Epoch 68/200\n",
            "125/125 [==============================] - 6s 47ms/step - loss: 0.1212 - accuracy: 0.9565 - val_loss: 0.1249 - val_accuracy: 0.9550\n",
            "Epoch 69/200\n",
            "125/125 [==============================] - 6s 50ms/step - loss: 0.1200 - accuracy: 0.9569 - val_loss: 0.1241 - val_accuracy: 0.9561\n",
            "Epoch 70/200\n",
            "125/125 [==============================] - 6s 47ms/step - loss: 0.1191 - accuracy: 0.9572 - val_loss: 0.1328 - val_accuracy: 0.9524\n",
            "Epoch 71/200\n",
            "125/125 [==============================] - 7s 53ms/step - loss: 0.1179 - accuracy: 0.9577 - val_loss: 0.1213 - val_accuracy: 0.9565\n",
            "Epoch 72/200\n",
            "125/125 [==============================] - 6s 48ms/step - loss: 0.1169 - accuracy: 0.9580 - val_loss: 0.1208 - val_accuracy: 0.9564\n",
            "Epoch 73/200\n",
            "125/125 [==============================] - 6s 50ms/step - loss: 0.1155 - accuracy: 0.9584 - val_loss: 0.1210 - val_accuracy: 0.9581\n",
            "Epoch 74/200\n",
            "125/125 [==============================] - 6s 51ms/step - loss: 0.1148 - accuracy: 0.9586 - val_loss: 0.1190 - val_accuracy: 0.9581\n",
            "Epoch 75/200\n",
            "125/125 [==============================] - 6s 51ms/step - loss: 0.1137 - accuracy: 0.9591 - val_loss: 0.1214 - val_accuracy: 0.9565\n",
            "Epoch 76/200\n",
            "125/125 [==============================] - 6s 48ms/step - loss: 0.1127 - accuracy: 0.9595 - val_loss: 0.1183 - val_accuracy: 0.9585\n",
            "Epoch 77/200\n",
            "125/125 [==============================] - 7s 54ms/step - loss: 0.1117 - accuracy: 0.9598 - val_loss: 0.1173 - val_accuracy: 0.9582\n",
            "Epoch 78/200\n",
            "125/125 [==============================] - 6s 48ms/step - loss: 0.1105 - accuracy: 0.9602 - val_loss: 0.1159 - val_accuracy: 0.9588\n",
            "Epoch 79/200\n",
            "125/125 [==============================] - 7s 53ms/step - loss: 0.1097 - accuracy: 0.9606 - val_loss: 0.1157 - val_accuracy: 0.9588\n",
            "Epoch 80/200\n",
            "125/125 [==============================] - 6s 50ms/step - loss: 0.1089 - accuracy: 0.9608 - val_loss: 0.1150 - val_accuracy: 0.9587\n",
            "Epoch 81/200\n",
            "125/125 [==============================] - 6s 50ms/step - loss: 0.1080 - accuracy: 0.9611 - val_loss: 0.1241 - val_accuracy: 0.9554\n",
            "Epoch 82/200\n",
            "125/125 [==============================] - 6s 47ms/step - loss: 0.1068 - accuracy: 0.9616 - val_loss: 0.1138 - val_accuracy: 0.9605\n",
            "Epoch 83/200\n",
            "125/125 [==============================] - 6s 50ms/step - loss: 0.1058 - accuracy: 0.9620 - val_loss: 0.1133 - val_accuracy: 0.9598\n",
            "Epoch 84/200\n",
            "125/125 [==============================] - 6s 50ms/step - loss: 0.1049 - accuracy: 0.9623 - val_loss: 0.1127 - val_accuracy: 0.9602\n",
            "Epoch 85/200\n",
            "125/125 [==============================] - 7s 53ms/step - loss: 0.1039 - accuracy: 0.9627 - val_loss: 0.1112 - val_accuracy: 0.9608\n",
            "Epoch 86/200\n",
            "125/125 [==============================] - 6s 47ms/step - loss: 0.1033 - accuracy: 0.9629 - val_loss: 0.1103 - val_accuracy: 0.9612\n",
            "Epoch 87/200\n",
            "125/125 [==============================] - 6s 50ms/step - loss: 0.1023 - accuracy: 0.9632 - val_loss: 0.1159 - val_accuracy: 0.9589\n",
            "Epoch 88/200\n",
            "125/125 [==============================] - 6s 47ms/step - loss: 0.1014 - accuracy: 0.9636 - val_loss: 0.1087 - val_accuracy: 0.9617\n",
            "Epoch 89/200\n",
            "125/125 [==============================] - 7s 53ms/step - loss: 0.1002 - accuracy: 0.9641 - val_loss: 0.1078 - val_accuracy: 0.9621\n",
            "Epoch 90/200\n",
            "125/125 [==============================] - 6s 47ms/step - loss: 0.0996 - accuracy: 0.9643 - val_loss: 0.1135 - val_accuracy: 0.9608\n",
            "Epoch 91/200\n",
            "125/125 [==============================] - 6s 51ms/step - loss: 0.0986 - accuracy: 0.9646 - val_loss: 0.1106 - val_accuracy: 0.9622\n",
            "Epoch 92/200\n",
            "125/125 [==============================] - 6s 48ms/step - loss: 0.0980 - accuracy: 0.9648 - val_loss: 0.1097 - val_accuracy: 0.9614\n",
            "Epoch 93/200\n",
            "125/125 [==============================] - 6s 50ms/step - loss: 0.0971 - accuracy: 0.9652 - val_loss: 0.1065 - val_accuracy: 0.9628\n",
            "Epoch 94/200\n",
            "125/125 [==============================] - 6s 48ms/step - loss: 0.0960 - accuracy: 0.9657 - val_loss: 0.1299 - val_accuracy: 0.9555\n",
            "Epoch 95/200\n",
            "125/125 [==============================] - 6s 51ms/step - loss: 0.0954 - accuracy: 0.9659 - val_loss: 0.1070 - val_accuracy: 0.9632\n",
            "Epoch 96/200\n",
            "125/125 [==============================] - 6s 48ms/step - loss: 0.0948 - accuracy: 0.9659 - val_loss: 0.1042 - val_accuracy: 0.9642\n",
            "Epoch 97/200\n",
            "125/125 [==============================] - 6s 50ms/step - loss: 0.0937 - accuracy: 0.9664 - val_loss: 0.1104 - val_accuracy: 0.9609\n",
            "Epoch 98/200\n",
            "125/125 [==============================] - 6s 47ms/step - loss: 0.0930 - accuracy: 0.9667 - val_loss: 0.1032 - val_accuracy: 0.9639\n",
            "Epoch 99/200\n",
            "125/125 [==============================] - 7s 53ms/step - loss: 0.0925 - accuracy: 0.9669 - val_loss: 0.1032 - val_accuracy: 0.9639\n",
            "Epoch 100/200\n",
            "125/125 [==============================] - 6s 50ms/step - loss: 0.0914 - accuracy: 0.9672 - val_loss: 0.1045 - val_accuracy: 0.9637\n",
            "Epoch 101/200\n",
            "125/125 [==============================] - 6s 50ms/step - loss: 0.0913 - accuracy: 0.9672 - val_loss: 0.1041 - val_accuracy: 0.9633\n",
            "Epoch 102/200\n",
            "125/125 [==============================] - 6s 47ms/step - loss: 0.0900 - accuracy: 0.9679 - val_loss: 0.1378 - val_accuracy: 0.9552\n",
            "Epoch 103/200\n",
            "125/125 [==============================] - 6s 51ms/step - loss: 0.0892 - accuracy: 0.9682 - val_loss: 0.1011 - val_accuracy: 0.9654\n",
            "Epoch 104/200\n",
            "125/125 [==============================] - 6s 47ms/step - loss: 0.0887 - accuracy: 0.9682 - val_loss: 0.1050 - val_accuracy: 0.9641\n",
            "Epoch 105/200\n",
            "125/125 [==============================] - 6s 51ms/step - loss: 0.0878 - accuracy: 0.9686 - val_loss: 0.0996 - val_accuracy: 0.9658\n",
            "Epoch 106/200\n",
            "125/125 [==============================] - 6s 50ms/step - loss: 0.0872 - accuracy: 0.9688 - val_loss: 0.1061 - val_accuracy: 0.9638\n",
            "Epoch 107/200\n",
            "125/125 [==============================] - 7s 53ms/step - loss: 0.0863 - accuracy: 0.9692 - val_loss: 0.0979 - val_accuracy: 0.9664\n",
            "Epoch 108/200\n",
            "125/125 [==============================] - 6s 48ms/step - loss: 0.0858 - accuracy: 0.9693 - val_loss: 0.1010 - val_accuracy: 0.9661\n",
            "Epoch 109/200\n",
            "125/125 [==============================] - 6s 51ms/step - loss: 0.0853 - accuracy: 0.9695 - val_loss: 0.1019 - val_accuracy: 0.9659\n",
            "Epoch 110/200\n",
            "125/125 [==============================] - 6s 47ms/step - loss: 0.0845 - accuracy: 0.9697 - val_loss: 0.0991 - val_accuracy: 0.9661\n",
            "Epoch 111/200\n",
            "125/125 [==============================] - 6s 50ms/step - loss: 0.0839 - accuracy: 0.9701 - val_loss: 0.0988 - val_accuracy: 0.9667\n",
            "Epoch 112/200\n",
            "125/125 [==============================] - 6s 50ms/step - loss: 0.0835 - accuracy: 0.9702 - val_loss: 0.0984 - val_accuracy: 0.9671\n",
            "Epoch 113/200\n",
            "125/125 [==============================] - 6s 50ms/step - loss: 0.0825 - accuracy: 0.9705 - val_loss: 0.0975 - val_accuracy: 0.9673\n",
            "Epoch 114/200\n",
            "125/125 [==============================] - 6s 47ms/step - loss: 0.0823 - accuracy: 0.9706 - val_loss: 0.0964 - val_accuracy: 0.9667\n",
            "Epoch 115/200\n",
            "125/125 [==============================] - 7s 53ms/step - loss: 0.0811 - accuracy: 0.9711 - val_loss: 0.0964 - val_accuracy: 0.9673\n",
            "Epoch 116/200\n",
            "125/125 [==============================] - 6s 47ms/step - loss: 0.0810 - accuracy: 0.9711 - val_loss: 0.1010 - val_accuracy: 0.9652\n",
            "Epoch 117/200\n",
            "125/125 [==============================] - 7s 54ms/step - loss: 0.0798 - accuracy: 0.9715 - val_loss: 0.0974 - val_accuracy: 0.9668\n",
            "Epoch 118/200\n",
            "125/125 [==============================] - 6s 48ms/step - loss: 0.0793 - accuracy: 0.9717 - val_loss: 0.0983 - val_accuracy: 0.9662\n",
            "Epoch 119/200\n",
            "125/125 [==============================] - 6s 51ms/step - loss: 0.0786 - accuracy: 0.9719 - val_loss: 0.0938 - val_accuracy: 0.9678\n",
            "Epoch 120/200\n",
            "125/125 [==============================] - 6s 48ms/step - loss: 0.0782 - accuracy: 0.9720 - val_loss: 0.0978 - val_accuracy: 0.9669\n",
            "Epoch 121/200\n",
            "125/125 [==============================] - 6s 51ms/step - loss: 0.0776 - accuracy: 0.9723 - val_loss: 0.1027 - val_accuracy: 0.9648\n",
            "Epoch 122/200\n",
            "125/125 [==============================] - 6s 50ms/step - loss: 0.0770 - accuracy: 0.9725 - val_loss: 0.0978 - val_accuracy: 0.9674\n",
            "Epoch 123/200\n",
            "125/125 [==============================] - 6s 51ms/step - loss: 0.0767 - accuracy: 0.9726 - val_loss: 0.0927 - val_accuracy: 0.9687\n",
            "Epoch 124/200\n",
            "125/125 [==============================] - 6s 50ms/step - loss: 0.0759 - accuracy: 0.9729 - val_loss: 0.0964 - val_accuracy: 0.9669\n",
            "Epoch 125/200\n",
            "125/125 [==============================] - 6s 51ms/step - loss: 0.0757 - accuracy: 0.9729 - val_loss: 0.0939 - val_accuracy: 0.9677\n",
            "Epoch 126/200\n",
            "125/125 [==============================] - 6s 50ms/step - loss: 0.0747 - accuracy: 0.9733 - val_loss: 0.0927 - val_accuracy: 0.9686\n",
            "Epoch 127/200\n",
            "125/125 [==============================] - 7s 53ms/step - loss: 0.0745 - accuracy: 0.9733 - val_loss: 0.0950 - val_accuracy: 0.9675\n",
            "Epoch 128/200\n",
            "125/125 [==============================] - 6s 51ms/step - loss: 0.0736 - accuracy: 0.9737 - val_loss: 0.1015 - val_accuracy: 0.9656\n",
            "Epoch 129/200\n",
            "125/125 [==============================] - 6s 51ms/step - loss: 0.0732 - accuracy: 0.9738 - val_loss: 0.1057 - val_accuracy: 0.9643\n",
            "Epoch 130/200\n",
            "125/125 [==============================] - 6s 50ms/step - loss: 0.0729 - accuracy: 0.9739 - val_loss: 0.0927 - val_accuracy: 0.9689\n",
            "Epoch 131/200\n",
            "125/125 [==============================] - 6s 50ms/step - loss: 0.0722 - accuracy: 0.9741 - val_loss: 0.0896 - val_accuracy: 0.9695\n",
            "Epoch 132/200\n",
            "125/125 [==============================] - 6s 48ms/step - loss: 0.0718 - accuracy: 0.9743 - val_loss: 0.0946 - val_accuracy: 0.9682\n",
            "Epoch 133/200\n",
            "125/125 [==============================] - 7s 54ms/step - loss: 0.0713 - accuracy: 0.9745 - val_loss: 0.0895 - val_accuracy: 0.9697\n",
            "Epoch 134/200\n",
            "125/125 [==============================] - 6s 51ms/step - loss: 0.0705 - accuracy: 0.9747 - val_loss: 0.0894 - val_accuracy: 0.9700\n",
            "Epoch 135/200\n",
            "125/125 [==============================] - 6s 51ms/step - loss: 0.0705 - accuracy: 0.9746 - val_loss: 0.0953 - val_accuracy: 0.9678\n",
            "Epoch 136/200\n",
            "125/125 [==============================] - 6s 50ms/step - loss: 0.0698 - accuracy: 0.9749 - val_loss: 0.0910 - val_accuracy: 0.9691\n",
            "Epoch 137/200\n",
            "125/125 [==============================] - 7s 53ms/step - loss: 0.0691 - accuracy: 0.9752 - val_loss: 0.0878 - val_accuracy: 0.9705\n",
            "Epoch 138/200\n",
            "125/125 [==============================] - 6s 49ms/step - loss: 0.0683 - accuracy: 0.9755 - val_loss: 0.0886 - val_accuracy: 0.9702\n",
            "Epoch 139/200\n",
            "125/125 [==============================] - 7s 52ms/step - loss: 0.0683 - accuracy: 0.9754 - val_loss: 0.1237 - val_accuracy: 0.9599\n",
            "Epoch 140/200\n",
            "125/125 [==============================] - 6s 49ms/step - loss: 0.0678 - accuracy: 0.9756 - val_loss: 0.0886 - val_accuracy: 0.9700\n",
            "Epoch 141/200\n",
            "125/125 [==============================] - 6s 50ms/step - loss: 0.0672 - accuracy: 0.9758 - val_loss: 0.0925 - val_accuracy: 0.9688\n",
            "Epoch 142/200\n",
            "125/125 [==============================] - 6s 50ms/step - loss: 0.0668 - accuracy: 0.9760 - val_loss: 0.0888 - val_accuracy: 0.9706\n",
            "Epoch 143/200\n",
            "125/125 [==============================] - 6s 50ms/step - loss: 0.0663 - accuracy: 0.9761 - val_loss: 0.0866 - val_accuracy: 0.9710\n",
            "Epoch 144/200\n",
            "125/125 [==============================] - 6s 51ms/step - loss: 0.0662 - accuracy: 0.9761 - val_loss: 0.0856 - val_accuracy: 0.9714\n",
            "Epoch 145/200\n",
            "125/125 [==============================] - 6s 49ms/step - loss: 0.0656 - accuracy: 0.9764 - val_loss: 0.0868 - val_accuracy: 0.9705\n",
            "Epoch 146/200\n",
            "125/125 [==============================] - 6s 50ms/step - loss: 0.0653 - accuracy: 0.9764 - val_loss: 0.0849 - val_accuracy: 0.9716\n",
            "Epoch 147/200\n",
            "125/125 [==============================] - 6s 48ms/step - loss: 0.0648 - accuracy: 0.9766 - val_loss: 0.0844 - val_accuracy: 0.9717\n",
            "Epoch 148/200\n",
            "125/125 [==============================] - 6s 52ms/step - loss: 0.0645 - accuracy: 0.9767 - val_loss: 0.0887 - val_accuracy: 0.9706\n",
            "Epoch 149/200\n",
            "125/125 [==============================] - 6s 48ms/step - loss: 0.0638 - accuracy: 0.9770 - val_loss: 0.0874 - val_accuracy: 0.9707\n",
            "Epoch 150/200\n",
            "125/125 [==============================] - 6s 52ms/step - loss: 0.0634 - accuracy: 0.9771 - val_loss: 0.0882 - val_accuracy: 0.9707\n",
            "Epoch 151/200\n",
            "125/125 [==============================] - 6s 49ms/step - loss: 0.0630 - accuracy: 0.9773 - val_loss: 0.0829 - val_accuracy: 0.9722\n",
            "Epoch 152/200\n",
            "125/125 [==============================] - 6s 50ms/step - loss: 0.0628 - accuracy: 0.9772 - val_loss: 0.0848 - val_accuracy: 0.9713\n",
            "Epoch 153/200\n",
            "125/125 [==============================] - 6s 49ms/step - loss: 0.0622 - accuracy: 0.9775 - val_loss: 0.0850 - val_accuracy: 0.9711\n",
            "Epoch 154/200\n",
            "125/125 [==============================] - 7s 53ms/step - loss: 0.0617 - accuracy: 0.9777 - val_loss: 0.0828 - val_accuracy: 0.9723\n",
            "Epoch 155/200\n",
            "125/125 [==============================] - 6s 49ms/step - loss: 0.0616 - accuracy: 0.9777 - val_loss: 0.0855 - val_accuracy: 0.9711\n",
            "Epoch 156/200\n",
            "125/125 [==============================] - 6s 51ms/step - loss: 0.0612 - accuracy: 0.9778 - val_loss: 0.0847 - val_accuracy: 0.9716\n",
            "Epoch 157/200\n",
            "125/125 [==============================] - 6s 48ms/step - loss: 0.0605 - accuracy: 0.9780 - val_loss: 0.0851 - val_accuracy: 0.9717\n",
            "Epoch 158/200\n",
            "125/125 [==============================] - 7s 53ms/step - loss: 0.0605 - accuracy: 0.9781 - val_loss: 0.0831 - val_accuracy: 0.9721\n",
            "Epoch 159/200\n",
            "125/125 [==============================] - 6s 51ms/step - loss: 0.0600 - accuracy: 0.9783 - val_loss: 0.0815 - val_accuracy: 0.9726\n",
            "Epoch 160/200\n",
            "125/125 [==============================] - 7s 54ms/step - loss: 0.0597 - accuracy: 0.9783 - val_loss: 0.0841 - val_accuracy: 0.9720\n",
            "Epoch 161/200\n",
            "125/125 [==============================] - 6s 49ms/step - loss: 0.0592 - accuracy: 0.9786 - val_loss: 0.0824 - val_accuracy: 0.9725\n",
            "Epoch 162/200\n",
            "125/125 [==============================] - 7s 54ms/step - loss: 0.0590 - accuracy: 0.9786 - val_loss: 0.0810 - val_accuracy: 0.9731\n",
            "Epoch 163/200\n",
            "125/125 [==============================] - 6s 49ms/step - loss: 0.0585 - accuracy: 0.9788 - val_loss: 0.0868 - val_accuracy: 0.9710\n",
            "Epoch 164/200\n",
            "125/125 [==============================] - 6s 51ms/step - loss: 0.0583 - accuracy: 0.9789 - val_loss: 0.0820 - val_accuracy: 0.9728\n",
            "Epoch 165/200\n",
            "125/125 [==============================] - 6s 49ms/step - loss: 0.0579 - accuracy: 0.9791 - val_loss: 0.0818 - val_accuracy: 0.9731\n",
            "Epoch 166/200\n",
            "125/125 [==============================] - 6s 51ms/step - loss: 0.0571 - accuracy: 0.9794 - val_loss: 0.0798 - val_accuracy: 0.9735\n",
            "Epoch 167/200\n",
            "125/125 [==============================] - 6s 48ms/step - loss: 0.0569 - accuracy: 0.9794 - val_loss: 0.0791 - val_accuracy: 0.9736\n",
            "Epoch 168/200\n",
            "125/125 [==============================] - 6s 52ms/step - loss: 0.0567 - accuracy: 0.9796 - val_loss: 0.0784 - val_accuracy: 0.9739\n",
            "Epoch 169/200\n",
            "125/125 [==============================] - 6s 50ms/step - loss: 0.0563 - accuracy: 0.9797 - val_loss: 0.0842 - val_accuracy: 0.9719\n",
            "Epoch 170/200\n",
            "125/125 [==============================] - 7s 53ms/step - loss: 0.0560 - accuracy: 0.9798 - val_loss: 0.0805 - val_accuracy: 0.9734\n",
            "Epoch 171/200\n",
            "125/125 [==============================] - 6s 48ms/step - loss: 0.0559 - accuracy: 0.9799 - val_loss: 0.1011 - val_accuracy: 0.9667\n",
            "Epoch 172/200\n",
            "125/125 [==============================] - 6s 51ms/step - loss: 0.0554 - accuracy: 0.9801 - val_loss: 0.0772 - val_accuracy: 0.9743\n",
            "Epoch 173/200\n",
            "125/125 [==============================] - 6s 48ms/step - loss: 0.0551 - accuracy: 0.9803 - val_loss: 0.0822 - val_accuracy: 0.9728\n",
            "Epoch 174/200\n",
            "125/125 [==============================] - 6s 51ms/step - loss: 0.0547 - accuracy: 0.9805 - val_loss: 0.0799 - val_accuracy: 0.9734\n",
            "Epoch 175/200\n",
            "125/125 [==============================] - 6s 48ms/step - loss: 0.0544 - accuracy: 0.9806 - val_loss: 0.0793 - val_accuracy: 0.9740\n",
            "Epoch 176/200\n",
            "125/125 [==============================] - 6s 51ms/step - loss: 0.0541 - accuracy: 0.9807 - val_loss: 0.0790 - val_accuracy: 0.9738\n",
            "Epoch 177/200\n",
            "125/125 [==============================] - 6s 48ms/step - loss: 0.0538 - accuracy: 0.9809 - val_loss: 0.0832 - val_accuracy: 0.9726\n",
            "Epoch 178/200\n",
            "125/125 [==============================] - 6s 51ms/step - loss: 0.0533 - accuracy: 0.9811 - val_loss: 0.0768 - val_accuracy: 0.9748\n",
            "Epoch 179/200\n",
            "125/125 [==============================] - 6s 52ms/step - loss: 0.0531 - accuracy: 0.9812 - val_loss: 0.0827 - val_accuracy: 0.9727\n",
            "Epoch 180/200\n",
            "125/125 [==============================] - 7s 54ms/step - loss: 0.0527 - accuracy: 0.9813 - val_loss: 0.0850 - val_accuracy: 0.9723\n",
            "Epoch 181/200\n",
            "125/125 [==============================] - 6s 48ms/step - loss: 0.0522 - accuracy: 0.9815 - val_loss: 0.0842 - val_accuracy: 0.9723\n",
            "Epoch 182/200\n",
            "125/125 [==============================] - 7s 54ms/step - loss: 0.0523 - accuracy: 0.9814 - val_loss: 0.0895 - val_accuracy: 0.9703\n",
            "Epoch 183/200\n",
            "125/125 [==============================] - 6s 48ms/step - loss: 0.0517 - accuracy: 0.9817 - val_loss: 0.0811 - val_accuracy: 0.9725\n",
            "Epoch 184/200\n",
            "125/125 [==============================] - 6s 51ms/step - loss: 0.0517 - accuracy: 0.9817 - val_loss: 0.0823 - val_accuracy: 0.9732\n",
            "Epoch 185/200\n",
            "125/125 [==============================] - 6s 48ms/step - loss: 0.0512 - accuracy: 0.9819 - val_loss: 0.0758 - val_accuracy: 0.9750\n",
            "Epoch 186/200\n",
            "125/125 [==============================] - 6s 51ms/step - loss: 0.0510 - accuracy: 0.9820 - val_loss: 0.0768 - val_accuracy: 0.9749\n",
            "Epoch 187/200\n",
            "125/125 [==============================] - 6s 50ms/step - loss: 0.0508 - accuracy: 0.9820 - val_loss: 0.0743 - val_accuracy: 0.9755\n",
            "Epoch 188/200\n",
            "125/125 [==============================] - 6s 51ms/step - loss: 0.0502 - accuracy: 0.9822 - val_loss: 0.0762 - val_accuracy: 0.9749\n",
            "Epoch 189/200\n",
            "125/125 [==============================] - 6s 47ms/step - loss: 0.0502 - accuracy: 0.9822 - val_loss: 0.0739 - val_accuracy: 0.9757\n",
            "Epoch 190/200\n",
            "125/125 [==============================] - 6s 51ms/step - loss: 0.0498 - accuracy: 0.9824 - val_loss: 0.0746 - val_accuracy: 0.9758\n",
            "Epoch 191/200\n",
            "125/125 [==============================] - 6s 48ms/step - loss: 0.0493 - accuracy: 0.9826 - val_loss: 0.0787 - val_accuracy: 0.9740\n",
            "Epoch 192/200\n",
            "125/125 [==============================] - 6s 52ms/step - loss: 0.0492 - accuracy: 0.9826 - val_loss: 0.0752 - val_accuracy: 0.9756\n",
            "Epoch 193/200\n",
            "125/125 [==============================] - 6s 51ms/step - loss: 0.0490 - accuracy: 0.9826 - val_loss: 0.0801 - val_accuracy: 0.9739\n",
            "Epoch 194/200\n",
            "125/125 [==============================] - 6s 51ms/step - loss: 0.0487 - accuracy: 0.9827 - val_loss: 0.0747 - val_accuracy: 0.9756\n",
            "Epoch 195/200\n",
            "125/125 [==============================] - 6s 50ms/step - loss: 0.0483 - accuracy: 0.9829 - val_loss: 0.0797 - val_accuracy: 0.9741\n",
            "Epoch 196/200\n",
            "125/125 [==============================] - 6s 52ms/step - loss: 0.0481 - accuracy: 0.9829 - val_loss: 0.0764 - val_accuracy: 0.9752\n",
            "Epoch 197/200\n",
            "125/125 [==============================] - 6s 49ms/step - loss: 0.0483 - accuracy: 0.9828 - val_loss: 0.0731 - val_accuracy: 0.9760\n",
            "Epoch 198/200\n",
            "125/125 [==============================] - 7s 55ms/step - loss: 0.0478 - accuracy: 0.9830 - val_loss: 0.0763 - val_accuracy: 0.9750\n",
            "Epoch 199/200\n",
            "125/125 [==============================] - 6s 52ms/step - loss: 0.0475 - accuracy: 0.9830 - val_loss: 0.0741 - val_accuracy: 0.9759\n",
            "Epoch 200/200\n",
            "125/125 [==============================] - 6s 51ms/step - loss: 0.0472 - accuracy: 0.9832 - val_loss: 0.0728 - val_accuracy: 0.9762\n"
          ]
        }
      ],
      "source": [
        "\n",
        "EPOCHS = 200\n",
        "\n",
        "steps_per_epoch = 4000//BATCH_SIZE\n",
        "validation_steps = 800//BATCH_SIZE\n",
        "test_steps = 200//BATCH_SIZE\n",
        "\n",
        "\n",
        "history = model.fit(training_dataset,\n",
        "                    steps_per_epoch=steps_per_epoch, validation_data=validation_dataset, validation_steps=validation_steps, epochs=EPOCHS)\n"
      ]
    },
    {
      "cell_type": "markdown",
      "metadata": {
        "id": "MtWqrHu1yYWJ"
      },
      "source": [
        "### Evaluate the Model\n",
        "\n",
        "\n",
        "\n"
      ]
    },
    {
      "cell_type": "markdown",
      "metadata": {
        "id": "OV_6Y99TymNe"
      },
      "source": [
        "#### Make Predictions\n",
        "\n",
        "Let's get the predictions using our test dataset as input and print the shape.\n",
        "\n",
        "\n"
      ]
    },
    {
      "cell_type": "code",
      "execution_count": 25,
      "metadata": {
        "id": "U6WSKBvHyy7m",
        "colab": {
          "base_uri": "https://localhost:8080/"
        },
        "outputId": "db306ebe-0357-4712-9001-1b7610d8ca98"
      },
      "outputs": [
        {
          "output_type": "stream",
          "name": "stdout",
          "text": [
            "6/6 [==============================] - 0s 16ms/step\n",
            "(192, 64, 84, 11)\n"
          ]
        }
      ],
      "source": [
        "results = model.predict(test_dataset, steps=test_steps)\n",
        "\n",
        "print(results.shape)"
      ]
    },
    {
      "cell_type": "markdown",
      "metadata": {
        "id": "Ysyr6YwT43Ht"
      },
      "source": [
        "As we can see, the resulting shape is (192, 64, 84, 11). This means that for each of the 192 images that we have in our test set, there are 11 predictions generated (i.e. one for each class: 0 to 1 plus background).\n",
        "\n",
        "Thus, if we want to see the probability of the upper leftmost pixel of the 1st image belonging to class 0, then we can print something like results[0,0,0,0]. If we want the probability of the same pixel at class 10, then results[0,0,0,10]."
      ]
    },
    {
      "cell_type": "code",
      "execution_count": 26,
      "metadata": {
        "id": "RZwas1_W44y1",
        "colab": {
          "base_uri": "https://localhost:8080/"
        },
        "outputId": "3ca7933f-a93d-4586-b025-e3e7638fa806"
      },
      "outputs": [
        {
          "output_type": "stream",
          "name": "stdout",
          "text": [
            "8.250704e-08\n",
            "0.9998996\n"
          ]
        }
      ],
      "source": [
        "print(results[0,0,0,0])\n",
        "print(results[0,0,0,10])"
      ]
    },
    {
      "cell_type": "markdown",
      "metadata": {
        "id": "0O1UrRws5Mq9"
      },
      "source": [
        "What we're interested in is to get the index of the highest probability of each of these 11 slices and combine them in a single image. We can do that by getting the argmax at this axis."
      ]
    },
    {
      "cell_type": "code",
      "execution_count": 27,
      "metadata": {
        "id": "_-NAPwN15PFD",
        "colab": {
          "base_uri": "https://localhost:8080/"
        },
        "outputId": "e2c9e2f0-9fc4-4df8-d490-4b7b58092d08"
      },
      "outputs": [
        {
          "output_type": "stream",
          "name": "stdout",
          "text": [
            "(192, 64, 84)\n"
          ]
        }
      ],
      "source": [
        "results = np.argmax(results, axis=3)\n",
        "\n",
        "print(results.shape)"
      ]
    },
    {
      "cell_type": "code",
      "execution_count": 28,
      "metadata": {
        "id": "X9ye_Vjl5bEb",
        "colab": {
          "base_uri": "https://localhost:8080/"
        },
        "outputId": "a459e64f-9ca9-4245-c41b-76f05d116c0b"
      },
      "outputs": [
        {
          "output_type": "stream",
          "name": "stdout",
          "text": [
            "10\n",
            "[[10 10 10 ... 10 10 10]\n",
            " [10 10 10 ... 10 10 10]\n",
            " [10 10 10 ... 10 10 10]\n",
            " ...\n",
            " [10 10 10 ... 10 10 10]\n",
            " [10 10 10 ... 10 10 10]\n",
            " [10 10 10 ... 10 10 10]]\n"
          ]
        }
      ],
      "source": [
        "print(results[0,0,0])\n",
        "\n",
        "# prediction map for image 0\n",
        "print(results[0,:,:])"
      ]
    },
    {
      "cell_type": "markdown",
      "metadata": {
        "id": "gme2Y588y2l-"
      },
      "source": [
        "#### Compute Metrics\n",
        "\n",
        "The function below generates the IOU and dice score of the prediction and ground truth masks"
      ]
    },
    {
      "cell_type": "code",
      "execution_count": 29,
      "metadata": {
        "id": "BdDz1C6Xy-06"
      },
      "outputs": [],
      "source": [
        "def class_wise_metrics(y_true, y_pred):\n",
        "  '''\n",
        "  Computes the class-wise IOU and Dice Score.\n",
        "\n",
        "  Args:\n",
        "    y_true (tensor) - ground truth label maps\n",
        "    y_pred (tensor) - predicted label maps\n",
        "  '''\n",
        "  class_wise_iou = []\n",
        "  class_wise_dice_score = []\n",
        "\n",
        "  smoothing_factor = 0.00001\n",
        "\n",
        "  for i in range(n_classes):\n",
        "    intersection = np.sum((y_pred == i) * (y_true == i))\n",
        "    y_true_area = np.sum((y_true == i))\n",
        "    y_pred_area = np.sum((y_pred == i))\n",
        "    combined_area = y_true_area + y_pred_area\n",
        "    \n",
        "    iou = (intersection) / (combined_area - intersection + smoothing_factor)\n",
        "    class_wise_iou.append(iou)\n",
        "    \n",
        "    dice_score =  2 * ((intersection) / (combined_area + smoothing_factor))\n",
        "    class_wise_dice_score.append(dice_score)\n",
        "\n",
        "  return class_wise_iou, class_wise_dice_score"
      ]
    },
    {
      "cell_type": "markdown",
      "metadata": {
        "id": "6xCOPU1rzCNg"
      },
      "source": [
        "#### Show Predictions and Metrics\n",
        "\n",
        "We can now see the predicted segmentation masks side by side with the ground truth. The metrics are also overlayed so we can evaluate how our model is doing.\n",
        "\n"
      ]
    },
    {
      "cell_type": "code",
      "execution_count": 30,
      "metadata": {
        "id": "t3ROsonKzIkp",
        "colab": {
          "base_uri": "https://localhost:8080/",
          "height": 244
        },
        "outputId": "f10387a0-e355-4024-95d3-4a01d4242d76"
      },
      "outputs": [
        {
          "output_type": "display_data",
          "data": {
            "text/plain": [
              "<Figure size 1080x288 with 3 Axes>"
            ],
            "image/png": "[encoded data removed]"
          },
          "metadata": {}
        }
      ],
      "source": [
        "# place a number here between 0 to 191 to pick an image from the test set\n",
        "integer_slider = 105\n",
        "\n",
        "ds = test_dataset.unbatch()\n",
        "ds = ds.batch(200)\n",
        "images = []\n",
        "\n",
        "y_true_segments = []\n",
        "for image, annotation in ds.take(2):\n",
        "  y_true_segments = annotation\n",
        "  images = image\n",
        "  \n",
        "  \n",
        "iou, dice_score = class_wise_metrics(np.argmax(y_true_segments[integer_slider], axis=2), results[integer_slider])  \n",
        "show_annotation_and_prediction(image[integer_slider], annotation[integer_slider], results[integer_slider], iou, dice_score)"
      ]
    },
    {
      "cell_type": "code",
      "execution_count": 31,
      "metadata": {
        "id": "a8aG8uLg5wDl",
        "colab": {
          "base_uri": "https://localhost:8080/"
        },
        "outputId": "3fec9596-ba59-4529-d0e4-7a1c25ccfb2b"
      },
      "outputs": [
        {
          "output_type": "stream",
          "name": "stdout",
          "text": [
            "Digit 0: IOU: 0.6441320285524058 Dice Score: 0.7835526799140808\n",
            "Digit 1: IOU: 0.7597723880262929 Dice Score: 0.8634893844179821\n",
            "Digit 2: IOU: 0.6706528362774218 Dice Score: 0.8028631942130866\n",
            "Digit 3: IOU: 0.5771513346999244 Dice Score: 0.7318908743906123\n",
            "Digit 4: IOU: 0.4785927638921461 Dice Score: 0.6473625133026235\n",
            "Digit 5: IOU: 0.4323483663571565 Dice Score: 0.6036916388667843\n",
            "Digit 6: IOU: 0.602703384786883 Dice Score: 0.7521084568833385\n",
            "Digit 7: IOU: 0.6135007839662469 Dice Score: 0.7604592325739841\n",
            "Digit 8: IOU: 0.5610966374381632 Dice Score: 0.7188493319144554\n",
            "Digit 9: IOU: 0.5153418693943683 Dice Score: 0.6801658157843066\n"
          ]
        }
      ],
      "source": [
        "cls_wise_iou, cls_wise_dice_score = class_wise_metrics(np.argmax(y_true_segments, axis=3), results)\n",
        "\n",
        "average_iou = 0.0\n",
        "for idx, (iou, dice_score) in enumerate(zip(cls_wise_iou[:-1], cls_wise_dice_score[:-1])):\n",
        "  print(\"Digit {}: IOU: {} Dice Score: {}\".format(idx, iou, dice_score)) \n",
        "  average_iou += iou\n"
      ]
    }
  ],
  "metadata": {
    "accelerator": "GPU",
    "colab": {
      "provenance": []
    },
    "gpuClass": "standard",
    "kernelspec": {
      "display_name": "Python 3",
      "name": "python3"
    },
    "language_info": {
      "name": "python"
    }
  },
  "nbformat": 4,
  "nbformat_minor": 0
}